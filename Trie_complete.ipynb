{
 "cells": [
  {
   "cell_type": "markdown",
   "source": [
    "# Building a Trie in Python\n",
    "\n",
    "Before we start let us reiterate the key components of a Trie or Prefix Tree. A trie is a tree-like data structure that stores a dynamic set of strings. Tries are commonly used to facilitate operations like predictive text or autocomplete features on mobile phones or web search.\n",
    "\n",
    "Before we move into the autocomplete function we need to create a working trie for storing strings.  We will create two classes:\n",
    "* A `Trie` class that contains the root node (empty string)\n",
    "* A `TrieNode` class that exposes the general functionality of the Trie, like inserting a word or finding the node which represents a prefix.\n",
    "\n",
    "Give it a try by implementing the `TrieNode` and `Trie` classes below!"
   ],
   "metadata": {}
  },
  {
   "cell_type": "code",
   "execution_count": 5,
   "source": [
    "# Represents a single node in the Trie\r\n",
    "class TrieNode:\r\n",
    "    def __init__(self):\r\n",
    "        self.node = None\r\n",
    "        self.is_word = False\r\n",
    "        self.children = {}\r\n",
    "        # Initialize this node in the Trie\r\n",
    "\r\n",
    "    def insert(self, char):\r\n",
    "        # Add a child node in this Trie\r\n",
    "        if not self.node:\r\n",
    "            self.node = self.children\r\n",
    "\r\n",
    "        new_char = self.node\r\n",
    "        if self.is_word == False:\r\n",
    "            new_char[char] = {'word end': False}\r\n",
    "        else:\r\n",
    "            new_char[char] = {'word end': True}\r\n",
    "        new_char = new_char[char]\r\n",
    "        self.node = self.node[char]\r\n",
    "\r\n",
    "\r\n",
    "# The Trie itself containing the root node and insert/find functions\r\n",
    "class Trie:\r\n",
    "    def __init__(self):\r\n",
    "        # Initialize this Trie (add a root node)\r\n",
    "        self.root = TrieNode()\r\n",
    "\r\n",
    "    def insert(self, word):\r\n",
    "        # Add a word to the Trie\r\n",
    "        for index, char in enumerate(word):\r\n",
    "\r\n",
    "            if index == len(word)-1:\r\n",
    "                self.root.is_word = True\r\n",
    "                if self.find(word[:index+1]):\r\n",
    "                    self.find(word[:index+1]).children['word end'] = True\r\n",
    "            else:\r\n",
    "                self.root.is_word = False\r\n",
    "            if self.find(word[:index+1]):\r\n",
    "                self.root.node = self.find(word[:index+1]).children\r\n",
    "                continue\r\n",
    "\r\n",
    "            self.root.insert(char)\r\n",
    "\r\n",
    "        self.root.node = None\r\n",
    "\r\n",
    "    def find(self, prefix):\r\n",
    "        current_char = self.root.children\r\n",
    "        current_node = TrieNode()\r\n",
    "        for char in prefix:\r\n",
    "            if current_char.get(char):\r\n",
    "                current_char = current_char[char]\r\n",
    "            else:\r\n",
    "                return None\r\n",
    "        current_node.children=current_char\r\n",
    "        return current_node\r\n"
   ],
   "outputs": [],
   "metadata": {
    "collapsed": true
   }
  },
  {
   "cell_type": "markdown",
   "source": [
    "# Finding Suffixes\n",
    "\n",
    "Now that we have a functioning Trie, we need to add the ability to list suffixes to implement our autocomplete feature.  To do that, we need to implement a new function on the `TrieNode` object that will return all complete word suffixes that exist below it in the trie.  For example, if our Trie contains the words `[\"fun\", \"function\", \"factory\"]` and we ask for suffixes from the `f` node, we would expect to receive `[\"un\", \"unction\", \"actory\"]` back from `node.suffixes()`.\n",
    "\n",
    "Using the code you wrote for the `TrieNode` above, try to add the suffixes function below. (Hint: recurse down the trie, collecting suffixes as you go.)"
   ],
   "metadata": {}
  },
  {
   "cell_type": "code",
   "execution_count": 6,
   "source": [
    "class TrieNode:\r\n",
    "    def __init__(self):\r\n",
    "        self.node = None\r\n",
    "        self.is_word = False\r\n",
    "        self.children = {}\r\n",
    "        # Initialize this node in the Trie\r\n",
    "\r\n",
    "    def insert(self, char):\r\n",
    "        # Add a child node in this Trie\r\n",
    "        if not self.node:\r\n",
    "            self.node = self.children\r\n",
    "\r\n",
    "        new_char = self.node\r\n",
    "        if self.is_word == False:\r\n",
    "            new_char[char] = {'word end': False}\r\n",
    "        else:\r\n",
    "            new_char[char] = {'word end': True}\r\n",
    "        new_char = new_char[char]\r\n",
    "        self.node = self.node[char]\r\n",
    "\r\n",
    "    def suffixes(self, prefix=''):\r\n",
    "        # Recursive function that collects the suffix for\r\n",
    "        # all complete words below this point\r\n",
    "        prefix = self.children\r\n",
    "        suffix_list = []\r\n",
    "\r\n",
    "        def get_suffix(prefix, suffix=''):\r\n",
    "\r\n",
    "            for i in prefix:\r\n",
    "\r\n",
    "                if len(i) > 1:\r\n",
    "                    continue\r\n",
    "\r\n",
    "                suffix += i\r\n",
    "\r\n",
    "                if prefix[i]['word end'] == True:\r\n",
    "                    suffix_list.append(suffix)\r\n",
    "\r\n",
    "                get_suffix(prefix[i], suffix)\r\n",
    "                suffix = suffix[:-1]\r\n",
    "\r\n",
    "        get_suffix(prefix)\r\n",
    "        return suffix_list\r\n"
   ],
   "outputs": [],
   "metadata": {
    "collapsed": true
   }
  },
  {
   "cell_type": "markdown",
   "source": [
    "# Testing it all out\n",
    "\n",
    "Run the following code to add some words to your trie and then use the interactive search box to see what your code returns."
   ],
   "metadata": {}
  },
  {
   "cell_type": "code",
   "execution_count": 7,
   "source": [
    "MyTrie=Trie()\r\n",
    "\r\n",
    "wordList = [\r\n",
    "    \"ant\", \"anthology\", \"antagonist\", \"antonym\", \r\n",
    "    \"fun\", \"function\", \"factory\", \r\n",
    "    \"trie\", \"trigger\", \"trigonometry\", \"tripod\"\r\n",
    "]\r\n",
    "for word in wordList:\r\n",
    "    MyTrie.insert(word)\r\n",
    "\r\n"
   ],
   "outputs": [],
   "metadata": {
    "collapsed": true
   }
  },
  {
   "cell_type": "code",
   "execution_count": 8,
   "source": [
    "from ipywidgets import widgets\r\n",
    "from IPython.display import display\r\n",
    "from ipywidgets import interact\r\n",
    "def f(prefix):\r\n",
    "    if prefix != '':\r\n",
    "        prefixNode = MyTrie.find(prefix)\r\n",
    "        if prefixNode:\r\n",
    "            print('\\n'.join(prefixNode.suffixes()))\r\n",
    "        else:\r\n",
    "            print(prefix + \" not found\")\r\n",
    "    else:\r\n",
    "        print('')\r\n",
    "interact(f,prefix='');"
   ],
   "outputs": [
    {
     "output_type": "display_data",
     "data": {
      "application/vnd.jupyter.widget-view+json": {
       "version_major": 2,
       "version_minor": 0,
       "model_id": "345e3b4da7204642b2c656f9513e3a2e"
      },
      "text/plain": [
       "interactive(children=(Text(value='', description='prefix'), Output()), _dom_classes=('widget-interact',))"
      ]
     },
     "metadata": {}
    }
   ],
   "metadata": {
    "collapsed": true
   }
  }
 ],
 "metadata": {
  "interpreter": {
   "hash": "b5843a13e7131a14c3c0e364f0390d6592a995e3082c3f83420ac4385eeb2370"
  },
  "kernelspec": {
   "name": "python3",
   "display_name": "Python 3.9.6 64-bit"
  },
  "language_info": {
   "codemirror_mode": {
    "name": "ipython",
    "version": 3
   },
   "file_extension": ".py",
   "mimetype": "text/x-python",
   "name": "python",
   "nbconvert_exporter": "python",
   "pygments_lexer": "ipython3",
   "version": "3.9.6"
  },
  "widgets": {
   "state": {},
   "version": "1.1.2"
  }
 },
 "nbformat": 4,
 "nbformat_minor": 2
}
{
 "cells": [
  {
   "cell_type": "markdown",
   "metadata": {},
   "source": [
    "# Building a Trie in Python\n",
    "\n",
    "Before we start let us reiterate the key components of a Trie or Prefix Tree. A trie is a tree-like data structure that stores a dynamic set of strings. Tries are commonly used to facilitate operations like predictive text or autocomplete features on mobile phones or web search.\n",
    "\n",
    "Before we move into the autocomplete function we need to create a working trie for storing strings.  We will create two classes:\n",
    "* A `Trie` class that contains the root node (empty string)\n",
    "* A `TrieNode` class that exposes the general functionality of the Trie, like inserting a word or finding the node which represents a prefix.\n",
    "\n",
    "Give it a try by implementing the `TrieNode` and `Trie` classes below!"
   ]
  },
  {
   "cell_type": "code",
   "execution_count": 1,
   "metadata": {
    "collapsed": true
   },
   "outputs": [],
   "source": [
    "# Represents a single node in the Trie\n",
    "class TrieNode:\n",
    "    def __init__(self):\n",
    "        self.node = None\n",
    "        self.is_word = False\n",
    "        self.children = {}\n",
    "        # Initialize this node in the Trie\n",
    "\n",
    "    def insert(self, char):\n",
    "        # Add a child node in this Trie\n",
    "        if not self.node:\n",
    "            self.node = self.children\n",
    "\n",
    "        if self.is_word == False:\n",
    "            self.node[char] = {'word end': False}\n",
    "        else:\n",
    "            self.node[char] = {'word end': True}\n",
    "\n",
    "        self.node = self.node[char]\n",
    "\n",
    "\n",
    "# The Trie itself containing the root node and insert/find functions\n",
    "class Trie:\n",
    "    def __init__(self):\n",
    "        # Initialize this Trie (add a root node)\n",
    "        self.root = TrieNode()\n",
    "\n",
    "    def insert(self, word):\n",
    "        # Add a word to the Trie\n",
    "        for index, char in enumerate(word):\n",
    "\n",
    "            if index == len(word)-1:\n",
    "                self.root.is_word = True\n",
    "                if self.find(word[:index+1]):\n",
    "                    self.find(word[:index+1]).children['word end'] = True\n",
    "            else:\n",
    "                self.root.is_word = False\n",
    "            if self.find(word[:index+1]):\n",
    "                self.root.node = self.find(word[:index+1]).children\n",
    "                continue\n",
    "\n",
    "            self.root.insert(char)\n",
    "\n",
    "        self.root.node = None\n",
    "\n",
    "    def find(self, prefix):\n",
    "        current_char = self.root.children\n",
    "        current_node = TrieNode()\n",
    "        for char in prefix:\n",
    "            if current_char.get(char):\n",
    "                current_char = current_char[char]\n",
    "            else:\n",
    "                return None\n",
    "        current_node.children = current_char\n",
    "        return current_node\n"
   ]
  },
  {
   "cell_type": "markdown",
   "metadata": {},
   "source": [
    "# Finding Suffixes\n",
    "\n",
    "Now that we have a functioning Trie, we need to add the ability to list suffixes to implement our autocomplete feature.  To do that, we need to implement a new function on the `TrieNode` object that will return all complete word suffixes that exist below it in the trie.  For example, if our Trie contains the words `[\"fun\", \"function\", \"factory\"]` and we ask for suffixes from the `f` node, we would expect to receive `[\"un\", \"unction\", \"actory\"]` back from `node.suffixes()`.\n",
    "\n",
    "Using the code you wrote for the `TrieNode` above, try to add the suffixes function below. (Hint: recurse down the trie, collecting suffixes as you go.)"
   ]
  },
  {
   "cell_type": "code",
   "execution_count": 2,
   "metadata": {
    "collapsed": true
   },
   "outputs": [],
   "source": [
    "class TrieNode:\n",
    "    def __init__(self):\n",
    "        self.node = None\n",
    "        self.is_word = False\n",
    "        self.children = {}\n",
    "        # Initialize this node in the Trie\n",
    "\n",
    "    def insert(self, char):\n",
    "        # Add a child node in this Trie\n",
    "        if not self.node:\n",
    "            self.node = self.children\n",
    "\n",
    "        new_char = self.node\n",
    "        if self.is_word == False:\n",
    "            new_char[char] = {'word end': False}\n",
    "        else:\n",
    "            new_char[char] = {'word end': True}\n",
    "        new_char = new_char[char]\n",
    "        self.node = self.node[char]\n",
    "\n",
    "    def suffixes(self, prefix=''):\n",
    "        # Recursive function that collects the suffix for\n",
    "        # all complete words below this point\n",
    "        prefix = self.children\n",
    "        suffix_list = []\n",
    "\n",
    "        def get_suffix(prefix, suffix=''):\n",
    "\n",
    "            for i in prefix:\n",
    "\n",
    "                if len(i) > 1:\n",
    "                    continue\n",
    "\n",
    "                suffix += i\n",
    "\n",
    "                if prefix[i]['word end'] == True:\n",
    "                    suffix_list.append(suffix)\n",
    "\n",
    "                get_suffix(prefix[i], suffix)\n",
    "                suffix = suffix[:-1]\n",
    "\n",
    "        get_suffix(prefix)\n",
    "        return suffix_list\n"
   ]
  },
  {
   "cell_type": "markdown",
   "metadata": {},
   "source": [
    "# Testing it all out\n",
    "\n",
    "Run the following code to add some words to your trie and then use the interactive search box to see what your code returns."
   ]
  },
  {
   "cell_type": "code",
   "execution_count": 3,
   "metadata": {
    "collapsed": true
   },
   "outputs": [],
   "source": [
    "MyTrie=Trie()\n",
    "\n",
    "wordList = [\n",
    "    \"ant\", \"anthology\", \"antagonist\", \"antonym\", \n",
    "    \"fun\", \"function\", \"factory\", \n",
    "    \"trie\", \"trigger\", \"trigonometry\", \"tripod\"\n",
    "]\n",
    "for word in wordList:\n",
    "    MyTrie.insert(word)\n",
    "\n"
   ]
  },
  {
   "cell_type": "code",
   "execution_count": 4,
   "metadata": {
    "collapsed": true
   },
   "outputs": [
    {
     "data": {
      "application/vnd.jupyter.widget-view+json": {
       "model_id": "1876fbd6c2d44c2c94fe549e4ff37742",
       "version_major": 2,
       "version_minor": 0
      },
      "text/plain": [
       "interactive(children=(Text(value='', description='prefix'), Output()), _dom_classes=('widget-interact',))"
      ]
     },
     "metadata": {},
     "output_type": "display_data"
    }
   ],
   "source": [
    "from ipywidgets import widgets\n",
    "from IPython.display import display\n",
    "from ipywidgets import interact\n",
    "def f(prefix):\n",
    "    if prefix != '':\n",
    "        prefixNode = MyTrie.find(prefix)\n",
    "        if prefixNode:\n",
    "            print('\\n'.join(prefixNode.suffixes()))\n",
    "        else:\n",
    "            print(prefix + \" not found\")\n",
    "    else:\n",
    "        print('')\n",
    "interact(f,prefix='');"
   ]
  }
 ],
 "metadata": {
  "interpreter": {
   "hash": "fcea7bec55ff6d7f3b1107f41f074eaa5711bec3d5478eb754b653bcca62ae21"
  },
  "kernelspec": {
   "display_name": "Python 3.9.7 64-bit (windows store)",
   "name": "python3"
  },
  "language_info": {
   "codemirror_mode": {
    "name": "ipython",
    "version": 3
   },
   "file_extension": ".py",
   "mimetype": "text/x-python",
   "name": "python",
   "nbconvert_exporter": "python",
   "pygments_lexer": "ipython3",
   "version": "3.9.7"
  },
  "widgets": {
   "state": {},
   "version": "1.1.2"
  }
 },
 "nbformat": 4,
 "nbformat_minor": 2
}

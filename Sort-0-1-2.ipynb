{
 "cells": [
  {
   "cell_type": "code",
   "execution_count": 25,
   "source": [
    "def sort_012(input_list):\r\n",
    "    end_index=len(input_list)-1\r\n",
    "    start_index=0\r\n",
    "    count=0\r\n",
    "    \r\n",
    "    while count < len(input_list):\r\n",
    "        if count > end_index:\r\n",
    "            break\r\n",
    "        if input_list[count]==1:\r\n",
    "            count+=1\r\n",
    "        \r\n",
    "        elif input_list[count] == 2:\r\n",
    "            temp=input_list[end_index]\r\n",
    "            input_list[end_index]=2\r\n",
    "            input_list[count]=temp\r\n",
    "            end_index-=1\r\n",
    "        else:\r\n",
    "            temp=input_list[start_index]\r\n",
    "            input_list[start_index]=0\r\n",
    "            input_list[count]=temp\r\n",
    "            start_index+=1\r\n",
    "            count+=1\r\n",
    "    return input_list"
   ],
   "outputs": [],
   "metadata": {}
  },
  {
   "cell_type": "code",
   "execution_count": 26,
   "source": [
    "def test_function(test_case):\r\n",
    "    sort_012(test_case)\r\n",
    "    \r\n",
    "    if test_case == sorted(test_case):\r\n",
    "        print(\"Pass\")\r\n",
    "    else:\r\n",
    "        print(\"Fail\")\r\n"
   ],
   "outputs": [],
   "metadata": {}
  },
  {
   "cell_type": "code",
   "execution_count": 27,
   "source": [
    "test_case = [2, 1, 2, 0, 0, 2, 1, 0, 1, 0, 0, 2, 2, 2, 1, 2, 0, 0, 0, 2, 1, 0, 2, 0, 0, 1]\r\n",
    "test_function(test_case)"
   ],
   "outputs": [
    {
     "output_type": "stream",
     "name": "stdout",
     "text": [
      "Pass\n"
     ]
    }
   ],
   "metadata": {}
  },
  {
   "cell_type": "code",
   "execution_count": 28,
   "source": [
    "test_case = [0, 0, 2, 2, 2, 1, 1, 1, 2, 0, 2]\r\n",
    "test_function(test_case)"
   ],
   "outputs": [
    {
     "output_type": "stream",
     "name": "stdout",
     "text": [
      "Pass\n"
     ]
    }
   ],
   "metadata": {}
  },
  {
   "cell_type": "code",
   "execution_count": 29,
   "source": [
    "test_case = [2, 2, 0, 0, 2, 1, 0, 2, 2, 1, 1, 1, 0, 1, 2, 0, 2, 0, 1]\r\n",
    "test_function(test_case)"
   ],
   "outputs": [
    {
     "output_type": "stream",
     "name": "stdout",
     "text": [
      "Pass\n"
     ]
    }
   ],
   "metadata": {
    "graffitiCellId": "id_mk5p9ba"
   }
  },
  {
   "cell_type": "code",
   "execution_count": 30,
   "source": [
    "\r\n",
    "test_function([0, 0, 0, 0, 0, 0, 1, 1, 1, 1, 1, 1, 2, 2, 2, 2, 2, 2, 2])"
   ],
   "outputs": [
    {
     "output_type": "stream",
     "name": "stdout",
     "text": [
      "Pass\n"
     ]
    }
   ],
   "metadata": {}
  }
 ],
 "metadata": {
  "graffiti": {
   "firstAuthorId": "dev",
   "id": "id_ni46pwa",
   "language": "EN"
  },
  "kernelspec": {
   "name": "python3",
   "display_name": "Python 3.9.7 64-bit (windows store)"
  },
  "language_info": {
   "codemirror_mode": {
    "name": "ipython",
    "version": 3
   },
   "file_extension": ".py",
   "mimetype": "text/x-python",
   "name": "python",
   "nbconvert_exporter": "python",
   "pygments_lexer": "ipython3",
   "version": "3.9.7"
  },
  "interpreter": {
   "hash": "fcea7bec55ff6d7f3b1107f41f074eaa5711bec3d5478eb754b653bcca62ae21"
  }
 },
 "nbformat": 4,
 "nbformat_minor": 2
}